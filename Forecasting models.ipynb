{
 "cells": [
  {
   "cell_type": "markdown",
   "id": "4eab414f",
   "metadata": {},
   "source": [
    "# Introduction\n",
    "\n",
    "In this notebook we will use the household power consumption dataset to build predictive models of the total active power for each day over the next week(s).\n",
    "\n",
    "Given that we are interested in total power per day we downsampled the per-minute observations of power consumption to daily totals in the preprocessing step.\n"
   ]
  },
  {
   "cell_type": "code",
   "execution_count": 1,
   "id": "5a06b9a4",
   "metadata": {},
   "outputs": [],
   "source": [
    "from math import sqrt\n",
    "from numpy import split\n",
    "from numpy import array\n",
    "from pandas import read_csv\n",
    "from sklearn.metrics import mean_squared_error\n",
    "from matplotlib import pyplot\n",
    "from keras.models import Sequential\n",
    "from keras.layers import Dense\n",
    "from keras.layers import Flatten\n",
    "from keras.layers import LSTM\n",
    "\n",
    "from keras.layers import RepeatVector\n",
    "from keras.layers import TimeDistributed\n",
    "\n",
    "from keras.layers.convolutional import Conv1D\n",
    "from keras.layers.convolutional import MaxPooling1D"
   ]
  },
  {
   "cell_type": "code",
   "execution_count": 2,
   "id": "d9d19029",
   "metadata": {},
   "outputs": [],
   "source": [
    "dataset = read_csv('household_power_consumption_days.csv', header=0, infer_datetime_format=True, parse_dates=['datetime'], index_col=['datetime'])"
   ]
  },
  {
   "cell_type": "markdown",
   "id": "7757fa9c",
   "metadata": {},
   "source": [
    "# Train and test sets\n",
    "\n",
    "The first three years of data will be used for training and the final year for evaluating.\n",
    "The data will be split into standard weeks (from sunday to saturday) which suits our problem framing consisting of predicting the consumption over a week ahead given recent consumption.\n"
   ]
  },
  {
   "cell_type": "code",
   "execution_count": 3,
   "id": "e82a4a8e",
   "metadata": {},
   "outputs": [
    {
     "data": {
      "text/html": [
       "<div>\n",
       "<style scoped>\n",
       "    .dataframe tbody tr th:only-of-type {\n",
       "        vertical-align: middle;\n",
       "    }\n",
       "\n",
       "    .dataframe tbody tr th {\n",
       "        vertical-align: top;\n",
       "    }\n",
       "\n",
       "    .dataframe thead th {\n",
       "        text-align: right;\n",
       "    }\n",
       "</style>\n",
       "<table border=\"1\" class=\"dataframe\">\n",
       "  <thead>\n",
       "    <tr style=\"text-align: right;\">\n",
       "      <th></th>\n",
       "      <th>Global_active_power</th>\n",
       "    </tr>\n",
       "    <tr>\n",
       "      <th>datetime</th>\n",
       "      <th></th>\n",
       "    </tr>\n",
       "  </thead>\n",
       "  <tbody>\n",
       "    <tr>\n",
       "      <th>2010-01-01</th>\n",
       "      <td>1224.252</td>\n",
       "    </tr>\n",
       "    <tr>\n",
       "      <th>2010-01-02</th>\n",
       "      <td>1309.268</td>\n",
       "    </tr>\n",
       "    <tr>\n",
       "      <th>2010-01-03</th>\n",
       "      <td>2083.454</td>\n",
       "    </tr>\n",
       "    <tr>\n",
       "      <th>2010-01-04</th>\n",
       "      <td>1604.132</td>\n",
       "    </tr>\n",
       "    <tr>\n",
       "      <th>2010-01-05</th>\n",
       "      <td>2219.780</td>\n",
       "    </tr>\n",
       "    <tr>\n",
       "      <th>...</th>\n",
       "      <td>...</td>\n",
       "    </tr>\n",
       "    <tr>\n",
       "      <th>2010-11-22</th>\n",
       "      <td>2041.536</td>\n",
       "    </tr>\n",
       "    <tr>\n",
       "      <th>2010-11-23</th>\n",
       "      <td>1577.536</td>\n",
       "    </tr>\n",
       "    <tr>\n",
       "      <th>2010-11-24</th>\n",
       "      <td>1796.248</td>\n",
       "    </tr>\n",
       "    <tr>\n",
       "      <th>2010-11-25</th>\n",
       "      <td>1431.164</td>\n",
       "    </tr>\n",
       "    <tr>\n",
       "      <th>2010-11-26</th>\n",
       "      <td>1488.104</td>\n",
       "    </tr>\n",
       "  </tbody>\n",
       "</table>\n",
       "<p>330 rows × 1 columns</p>\n",
       "</div>"
      ],
      "text/plain": [
       "            Global_active_power\n",
       "datetime                       \n",
       "2010-01-01             1224.252\n",
       "2010-01-02             1309.268\n",
       "2010-01-03             2083.454\n",
       "2010-01-04             1604.132\n",
       "2010-01-05             2219.780\n",
       "...                         ...\n",
       "2010-11-22             2041.536\n",
       "2010-11-23             1577.536\n",
       "2010-11-24             1796.248\n",
       "2010-11-25             1431.164\n",
       "2010-11-26             1488.104\n",
       "\n",
       "[330 rows x 1 columns]"
      ]
     },
     "execution_count": 3,
     "metadata": {},
     "output_type": "execute_result"
    }
   ],
   "source": [
    "dataset.loc['2010']"
   ]
  },
  {
   "cell_type": "markdown",
   "id": "182264c0",
   "metadata": {},
   "source": [
    "**2010** is the final year of the data. The first Sunday in 2010 was **January 3rd**. The data ends in late November 2010. \n",
    "The last Saturday in the data is **November 20th**. This gives **46 weeks** of test data (328 days)."
   ]
  },
  {
   "cell_type": "markdown",
   "id": "0701fe9d",
   "metadata": {},
   "source": [
    "The data starts in **late 2006**. The first Sunday is December 17th. We will have **159 weeks** for training."
   ]
  },
  {
   "cell_type": "code",
   "execution_count": 4,
   "id": "f4067b4d",
   "metadata": {},
   "outputs": [],
   "source": [
    "def split_dataset(data):\n",
    "    \n",
    "    # split into train and test sets working backwards from the test dataset\n",
    "    train, test = data[1:-328], data[-328:-6]\n",
    "    \n",
    "    # split into weeks of data\n",
    "    train = array(split(train, len(train)/7))\n",
    "    test = array(split(test, len(test)/7))\n",
    "    \n",
    "    return train, test"
   ]
  },
  {
   "cell_type": "code",
   "execution_count": 5,
   "id": "8847b18b",
   "metadata": {},
   "outputs": [
    {
     "name": "stdout",
     "output_type": "stream",
     "text": [
      "Train set\n",
      "(159, 7, 1)\n",
      "3390.46 1309.268\n",
      "Test set\n",
      "(46, 7, 1)\n",
      "2083.454 2197.006\n"
     ]
    }
   ],
   "source": [
    "train, test = split_dataset(dataset.values)\n",
    "\n",
    "print(\"Train set\")\n",
    "print(train.shape)\n",
    "print(train[0, 0, 0], train[-1, -1, 0])\n",
    "\n",
    "print(\"Test set\")\n",
    "print(test.shape)\n",
    "print(test[0, 0, 0], test[-1, -1, 0])"
   ]
  },
  {
   "cell_type": "markdown",
   "id": "17e6c407",
   "metadata": {},
   "source": [
    "# Framing the supervised learning problem\n",
    "\n",
    "Models will have as input a one-dimensional subsequence of data containing **n_input** prior days (one or more weeks).\n",
    "The choice of the size of the sequence (n_input) depends on the application and the model. \n",
    "\n",
    "We have 159 training week instances which is not enough to train deep learning models. We will create more training data by using each **n_input** days to predict **n_out** days instead of only using standard weeks."
   ]
  },
  {
   "cell_type": "code",
   "execution_count": 6,
   "id": "5f0f20e0",
   "metadata": {},
   "outputs": [],
   "source": [
    "def to_supervised(n_out=14): #output sequence of 14 days\n",
    "    \n",
    "    #flatten the data : number of weeks* 7 days\n",
    "    data = train.reshape((train.shape[0]*train.shape[1], train.shape[2]))\n",
    "    \n",
    "    X, y = list(), list()\n",
    "    \n",
    "    #in_start variable will be used as the beginning index of the sliding window\n",
    "    in_start = 0\n",
    "    \n",
    "    # step over the entire history one time step at a time\n",
    "    for _ in range(len(data)):\n",
    "        \n",
    "        # in_end is the index of the end of the input sequence\n",
    "        in_end = in_start + n_input\n",
    "        \n",
    "        #out_end is the index of the the output sequence\n",
    "        out_end = in_end + n_out\n",
    "        \n",
    "        \n",
    "        # checking that we have enough data for the output sequence\n",
    "        if out_end <= len(data):\n",
    "            x_input = data[in_start:in_end, 0]\n",
    "            x_input = x_input.reshape((len(x_input), 1))\n",
    "            \n",
    "            X.append(x_input)\n",
    "            \n",
    "            y.append(data[in_end:out_end, 0])\n",
    "            \n",
    "        # move along one time step\n",
    "        in_start += 1\n",
    "        \n",
    "        \n",
    "    return array(X), array(y)"
   ]
  },
  {
   "cell_type": "markdown",
   "id": "4886c59b",
   "metadata": {},
   "source": [
    "# Models"
   ]
  },
  {
   "cell_type": "markdown",
   "id": "9659e14d",
   "metadata": {},
   "source": [
    "### Vanilla LSTM\n",
    "\n",
    "We have relatively small amount of data, hence we will build a \"small\" model.\n",
    "\n",
    "This model consists of a single hidden LSTM layer with **200 units**, followed by a fully connected layer with **100 nodes** that will interpret the features learned by the LSTM layer. Finally, an output layer will directly predict a vector with **n_out** elements, one for each day in the output sequence.\n",
    "\n",
    "We will use the **mean squared error** loss function as it is a good match for the RMSE error metric that we will use later to evaluate the models. \n",
    "\n",
    "We will use the efficient **Adam** implementation of stochastic gradient descent and fit the model for **100** epochs with a batch size of **16**.\n",
    "\n",
    "Thestochastic nature of the algorithm means that the same model can learn a slightly different mapping of inputs to outputs each time it is trained. This means results may vary when the model is evaluated.\n"
   ]
  },
  {
   "cell_type": "code",
   "execution_count": 7,
   "id": "a917e858",
   "metadata": {},
   "outputs": [],
   "source": [
    "def vanilla_LSTM():\n",
    "    \n",
    "    verbose, epochs, batch_size = 0, 100, 16\n",
    "    n_timesteps, n_features, n_outputs = train_x.shape[1], train_x.shape[2], train_y.shape[1]\n",
    "    \n",
    "    model = Sequential()\n",
    "    model.add(LSTM(200, activation='relu', input_shape=(n_timesteps, n_features)))\n",
    "    model.add(Dense(100, activation='relu'))\n",
    "    model.add(Dense(n_outputs))\n",
    "    model.compile(loss='mse', optimizer='adam')\n",
    "    \n",
    "    model.fit(train_x, train_y, epochs=epochs, batch_size=batch_size, verbose=verbose)\n",
    "    \n",
    "    return model"
   ]
  },
  {
   "cell_type": "markdown",
   "id": "f2160910",
   "metadata": {},
   "source": [
    "### Encoder decoder LSTM\n",
    "\n",
    "We can update the vanilla LSTM to use an encoder-decoder model.\n",
    "Instead of outputting a vector sequence directly, the model will be comprised of 2 sub-models:\n",
    "**the encoder** to read and encode the input sequence, and **the decoder** to read the encoded input sequence and make a one-step prediction for each element in the output sequence.\n",
    "\n",
    "\n",
    " -  As before, we define an LSTM hidden layer with 200 units for the encoder model which will read the input sequence and will output a 200 element vector (one output per unit) that captures features from the input sequence.\n",
    " \n",
    "\n",
    " - The internal representation of the input sequence is repeated multiple times, once for each time step in the output sequence. This sequence of vectors will be presented to the LSTM decoder.\n",
    " \n",
    " \n",
    " - We then define the decoder as an LSTM hidden layer with 200 units. The decoder will output the entire sequence, not just the output at the end of the sequence as we did with the encoder. This means that each of the 200 units will output a value for each of the output days, representing the basis for what to predict for each day in the output sequence.\n",
    " \n",
    " \n",
    " - We will then use a fully connected layer to interpret each time step in the output sequence before the final output layer. The output layer predicts a single step in the output sequence, not all seven days at a time, This means that we will use the same layers applied to each step in the output sequence. It means that the same fully connected layer and output layer will be used to process each time step provided by the decoder. This allows the LSTM decoder to figure out the context required for each step in the output sequence and the wrapped dense layers to interpret each time step separately, yet reusing the same weights to perform the interpretation."
   ]
  },
  {
   "cell_type": "code",
   "execution_count": 8,
   "id": "4770be67",
   "metadata": {},
   "outputs": [],
   "source": [
    "def encoder_decoder():\n",
    "    \n",
    "    train_y_local=train_y\n",
    "    verbose, epochs, batch_size = 0, 100, 16\n",
    "    n_timesteps, n_features, n_outputs = train_x.shape[1], train_x.shape[2], train_y_local.shape[1]\n",
    "    train_y_local = train_y_local.reshape((train_y_local.shape[0], train_y_local.shape[1], 1))\n",
    "    \n",
    "    model = Sequential()\n",
    "    model.add(LSTM(200, activation='relu', input_shape=(n_timesteps, n_features)))\n",
    "    \n",
    "    model.add(RepeatVector(n_outputs))\n",
    "    \n",
    "    model.add(LSTM(200, activation='relu', return_sequences=True))\n",
    "    \n",
    "    model.add(TimeDistributed(Dense(100, activation='relu')))\n",
    "    model.add(TimeDistributed(Dense(1)))\n",
    "    model.compile(loss='mse', optimizer='adam')\n",
    "    \n",
    "    model.fit(train_x, train_y, epochs=epochs, batch_size=batch_size, verbose=verbose)\n",
    "    return model"
   ]
  },
  {
   "cell_type": "markdown",
   "id": "bbaaaf77",
   "metadata": {},
   "source": [
    "###  CNN-LSTM Encoder-Decoder Model\n",
    "\n",
    "A convolutional neural network can be used as the encoder in an encoder-decoder architecture.\n",
    "\n",
    "The CNN does not directly support sequence input; instead, a 1D CNN is capable of reading across sequence input and learning the features. These can then be interpreted by an LSTM decoder as per normal.\n",
    "\n",
    "- We will define a simple  CNN architecture for the encoder that is comprised of two convolutional layers followed by a max pooling layer, the results of which are then flattened.\n",
    " \n",
    " \n",
    "- The first convolutional layer reads across the input sequence and projects the results onto feature maps. \n",
    "\n",
    "\n",
    "- The second performs the same operation on the feature maps created by the first layer, attempting to amplify any salient features. We will use 64 feature maps per convolutional layer and read the input sequences with a kernel size of three time steps.\n",
    "\n",
    "\n",
    "- The max pooling layer simplifies the feature maps by keeping 1/4 of the values with the largest (max) signal. The distilled feature maps after the pooling layer are then flattened into one long vector that can then be used as input to the decoding process.\n",
    "\n",
    "\n",
    "- The decoder is the same as was defined in previous sections."
   ]
  },
  {
   "cell_type": "code",
   "execution_count": 9,
   "id": "5e59605a",
   "metadata": {},
   "outputs": [],
   "source": [
    "def CNNLSTM():\n",
    "    \n",
    "    train_y_local=train_y\n",
    "    verbose, epochs, batch_size = 0, 100, 16\n",
    "    n_timesteps, n_features, n_outputs = train_x.shape[1], train_x.shape[2], train_y_local.shape[1]\n",
    "    train_y_local = train_y_local.reshape((train_y_local.shape[0], train_y_local.shape[1], 1))\n",
    "    \n",
    "    model = Sequential()\n",
    "    \n",
    "    model.add(Conv1D(filters=64, kernel_size=3, activation='relu', input_shape=(n_timesteps,n_features)))\n",
    "    \n",
    "    model.add(Conv1D(filters=64, kernel_size=3, activation='relu'))\n",
    "    \n",
    "    model.add(MaxPooling1D(pool_size=2))\n",
    "    model.add(Flatten())\n",
    "    \n",
    "    model.add(RepeatVector(n_outputs))\n",
    "    \n",
    "    model.add(LSTM(200, activation='relu', return_sequences=True))\n",
    "    \n",
    "    model.add(TimeDistributed(Dense(100, activation='relu')))\n",
    "    model.add(TimeDistributed(Dense(1)))\n",
    "    model.compile(loss='mse', optimizer='adam')\n",
    "    \n",
    "    model.fit(train_x, train_y, epochs=epochs, batch_size=batch_size, verbose=verbose)\n",
    "    return model"
   ]
  },
  {
   "cell_type": "markdown",
   "id": "8c80d6f5",
   "metadata": {},
   "source": [
    "# Forecasting and evaluating models"
   ]
  },
  {
   "cell_type": "code",
   "execution_count": 10,
   "id": "006b950a",
   "metadata": {},
   "outputs": [],
   "source": [
    "n_input = 28\n",
    "train_x, train_y = to_supervised()"
   ]
  },
  {
   "cell_type": "markdown",
   "id": "cb7dbd8c",
   "metadata": {},
   "source": [
    "Forecasts are comprised of seven values, one for each day of the week ahead.\n",
    "\n",
    "It is common with multi-step forecasting problems to evaluate each forecasted time step separately. This is helpful to comment and to constrast models skill at a specific lead times (models good at +1 day vs models good at days +5).\n",
    "\n",
    "\n",
    "The units of the total power are kilowatts and it would be useful to have an error metric that would also be in the same unit. Both Root Mean Squared Error (RMSE) and Mean Absolute Error (MAE) can be used in this case, but RMSE is more commonly used. Unlike MAE, RMSE is more punishing of forecast errors.\n",
    "\n",
    "The performance metric for this problem will be the RMSE for each lead time from day 1 to day 7.\n",
    "\n",
    "We will also summarize the performance of a model using a single score in order to compare models overall performance (RMSE across all forecast days)."
   ]
  },
  {
   "cell_type": "code",
   "execution_count": 11,
   "id": "415c7663",
   "metadata": {},
   "outputs": [],
   "source": [
    "def forecast(model, history):\n",
    "    \n",
    "    data = array(history)\n",
    "    data = data.reshape((data.shape[0]*data.shape[1], data.shape[2]))\n",
    "    \n",
    "    \n",
    "    input_x = data[-n_input:, 0]\n",
    "   \n",
    "    input_x = input_x.reshape((1, len(input_x), 1))\n",
    "    \n",
    "    \n",
    "    yhat = model.predict(input_x, verbose=0)\n",
    "    \n",
    "    yhat = yhat[0]\n",
    "    \n",
    "    return yhat"
   ]
  },
  {
   "cell_type": "code",
   "execution_count": 12,
   "id": "94c58881",
   "metadata": {},
   "outputs": [],
   "source": [
    "def evaluate_forecasts(actual, predicted):\n",
    "    \n",
    "    scores = list()\n",
    "    \n",
    "    #RMSE score for each day\n",
    "    for i in range(actual.shape[1]):\n",
    "        mse = mean_squared_error(actual[:, i], predicted[:, i])\n",
    "        rmse = sqrt(mse)\n",
    "        scores.append(rmse)\n",
    "        \n",
    "    #overall RMSE\n",
    "    s = 0\n",
    "    for row in range(actual.shape[0]):\n",
    "        for col in range(actual.shape[1]):\n",
    "            s += (actual[row, col] - predicted[row, col])**2\n",
    "    score = sqrt(s / (actual.shape[0] * actual.shape[1]))\n",
    "    return score, scores\n",
    "\n",
    "\n",
    "def evaluate_model(build_model):\n",
    "    \n",
    "    model = build_model()\n",
    "    \n",
    "    history = [x for x in train]\n",
    "    \n",
    "    predictions = list()\n",
    "    for i in range(len(test)):\n",
    "        \n",
    "        yhat_sequence = forecast(model, history)\n",
    "        \n",
    "        predictions.append(yhat_sequence)\n",
    "        \n",
    "        #append real observation to history to predict the next outputs\n",
    "        history.append(test[i, :])\n",
    "        \n",
    "    # evaluate predictions days for each week and overall\n",
    "    predictions = array(predictions)\n",
    "    score, scores = evaluate_forecasts(test[:, :, 0], predictions)\n",
    "    \n",
    "    return score, scores"
   ]
  },
  {
   "cell_type": "code",
   "execution_count": 13,
   "id": "b835651f",
   "metadata": {},
   "outputs": [],
   "source": [
    "def summarize_scores(name, score, scores):\n",
    "    s_scores = ', '.join(['%.1f' % s for s in scores])\n",
    "    print('%s: [%.3f] %s' % (name, score, s_scores))"
   ]
  },
  {
   "cell_type": "markdown",
   "id": "c51bc04d",
   "metadata": {},
   "source": [
    "#### Vanilla LSTM"
   ]
  },
  {
   "cell_type": "code",
   "execution_count": 14,
   "id": "fd0d785d",
   "metadata": {},
   "outputs": [
    {
     "name": "stdout",
     "output_type": "stream",
     "text": [
      "LSTM: [405.121] 403.2, 392.0, 370.2, 411.5, 392.7, 357.9, 493.8\n"
     ]
    },
    {
     "data": {
      "image/png": "[encoded data removed]",
      "text/plain": [
       "<Figure size 432x288 with 1 Axes>"
      ]
     },
     "metadata": {
      "needs_background": "light"
     },
     "output_type": "display_data"
    }
   ],
   "source": [
    "score, scores = evaluate_model(vanilla_LSTM)\n",
    "\n",
    "summarize_scores('LSTM', score, scores)\n",
    "\n",
    "days = ['sun', 'mon', 'tue', 'wed', 'thr', 'fri', 'sat']\n",
    "pyplot.plot(days, scores, marker='o', label='LSTM')\n",
    "pyplot.show()"
   ]
  },
  {
   "cell_type": "markdown",
   "id": "d81ce130",
   "metadata": {},
   "source": [
    "#### Encoder-Decoder LSTM"
   ]
  },
  {
   "cell_type": "code",
   "execution_count": 15,
   "id": "941f6d41",
   "metadata": {},
   "outputs": [
    {
     "name": "stdout",
     "output_type": "stream",
     "text": [
      "Encoder Decoder: [389.054] 403.3, 374.1, 342.7, 382.3, 391.2, 379.9, 442.7\n"
     ]
    },
    {
     "data": {
      "image/png": "[encoded data removed]",
      "text/plain": [
       "<Figure size 432x288 with 1 Axes>"
      ]
     },
     "metadata": {
      "needs_background": "light"
     },
     "output_type": "display_data"
    }
   ],
   "source": [
    "score, scores = evaluate_model(encoder_decoder)\n",
    "\n",
    "summarize_scores('Encoder Decoder', score, scores)\n",
    "\n",
    "days = ['sun', 'mon', 'tue', 'wed', 'thr', 'fri', 'sat']\n",
    "pyplot.plot(days, scores, marker='o', label='Encoder decoder')\n",
    "pyplot.show()"
   ]
  },
  {
   "cell_type": "markdown",
   "id": "3e8a9833",
   "metadata": {},
   "source": [
    "#### CNN-LSTM Encoder-Decoder Model"
   ]
  },
  {
   "cell_type": "code",
   "execution_count": 16,
   "id": "1b468d92",
   "metadata": {},
   "outputs": [
    {
     "name": "stdout",
     "output_type": "stream",
     "text": [
      "CNN-LSTM: [381.085] 398.7, 362.4, 341.4, 372.0, 386.5, 333.5, 459.1\n"
     ]
    },
    {
     "data": {
      "image/png": "[encoded data removed]",
      "text/plain": [
       "<Figure size 432x288 with 1 Axes>"
      ]
     },
     "metadata": {
      "needs_background": "light"
     },
     "output_type": "display_data"
    }
   ],
   "source": [
    "score, scores = evaluate_model(CNNLSTM)\n",
    "\n",
    "summarize_scores('CNN-LSTM', score, scores)\n",
    "\n",
    "days = ['sun', 'mon', 'tue', 'wed', 'thr', 'fri', 'sat']\n",
    "pyplot.plot(days, scores, marker='o', label='CNN-LSTM')\n",
    "pyplot.show()"
   ]
  },
  {
   "cell_type": "markdown",
   "id": "6ea3cd55",
   "metadata": {},
   "source": [
    "## Conclusions\n",
    "\n",
    "- The models have close RMSE values, with CNN-LSTM encoder decoder model being the best out of the three.\n",
    "\n",
    "\n",
    "- These results change every time we train the models due to their stochastic nature. \n",
    "\n",
    "\n",
    "- In this case, Vanilla LSTM model was as performant as the other 2 models, but according to litterature, LSTMs still have problems when dealing with longer sequences, thus the suggestion of enhanced architectures like Stacked LSTMs, Bidirectional LSTMs, CNN-LSTMs, Encoder-Decoder LSTMs etc.\n",
    "\n",
    "\n",
    "- The architectures are relatively and we can further improve them by finetuning and experimenting with hyper-parameters.\n",
    "\n"
   ]
  },
  {
   "cell_type": "code",
   "execution_count": null,
   "id": "0b7e5ed7",
   "metadata": {},
   "outputs": [],
   "source": []
  }
 ],
 "metadata": {
  "kernelspec": {
   "display_name": "Python 3 (ipykernel)",
   "language": "python",
   "name": "python3"
  },
  "language_info": {
   "codemirror_mode": {
    "name": "ipython",
    "version": 3
   },
   "file_extension": ".py",
   "mimetype": "text/x-python",
   "name": "python",
   "nbconvert_exporter": "python",
   "pygments_lexer": "ipython3",
   "version": "3.9.7"
  }
 },
 "nbformat": 4,
 "nbformat_minor": 5
}
